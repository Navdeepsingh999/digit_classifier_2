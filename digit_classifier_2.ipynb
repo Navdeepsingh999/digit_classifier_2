{
  "nbformat": 4,
  "nbformat_minor": 0,
  "metadata": {
    "colab": {
      "provenance": [],
      "gpuType": "T4"
    },
    "kernelspec": {
      "name": "python3",
      "display_name": "Python 3"
    },
    "language_info": {
      "name": "python"
    },
    "accelerator": "GPU",
    "gpuClass": "standard"
  },
  "cells": [
    {
      "cell_type": "code",
      "execution_count": 1,
      "metadata": {
        "id": "JISEecmlAjaG"
      },
      "outputs": [],
      "source": [
        "import tensorflow as tf\n",
        "import numpy as np\n",
        "from tensorflow.keras.datasets import mnist\n",
        "import matplotlib.pyplot as plt"
      ]
    },
    {
      "cell_type": "code",
      "source": [
        "(X_train, y_train), (X_test, y_test) = mnist.load_data()"
      ],
      "metadata": {
        "colab": {
          "base_uri": "https://localhost:8080/"
        },
        "id": "mAW1i8QPA0r0",
        "outputId": "6c97a4c0-d771-4d63-c188-4c75477ef87d"
      },
      "execution_count": 2,
      "outputs": [
        {
          "output_type": "stream",
          "name": "stdout",
          "text": [
            "Downloading data from https://storage.googleapis.com/tensorflow/tf-keras-datasets/mnist.npz\n",
            "11490434/11490434 [==============================] - 0s 0us/step\n"
          ]
        }
      ]
    },
    {
      "cell_type": "code",
      "source": [
        "print(X_train.shape, y_train.shape)\n",
        "print(X_test.shape, y_test.shape)"
      ],
      "metadata": {
        "colab": {
          "base_uri": "https://localhost:8080/"
        },
        "id": "zIvkc09kA3_k",
        "outputId": "d988d218-1540-4520-82bc-8697719e8552"
      },
      "execution_count": 3,
      "outputs": [
        {
          "output_type": "stream",
          "name": "stdout",
          "text": [
            "(60000, 28, 28) (60000,)\n",
            "(10000, 28, 28) (10000,)\n"
          ]
        }
      ]
    },
    {
      "cell_type": "code",
      "source": [
        "y_train[0]"
      ],
      "metadata": {
        "colab": {
          "base_uri": "https://localhost:8080/"
        },
        "id": "3qDejhVRBapa",
        "outputId": "e961f555-a107-48dc-fb25-52aed25feab2"
      },
      "execution_count": 4,
      "outputs": [
        {
          "output_type": "execute_result",
          "data": {
            "text/plain": [
              "5"
            ]
          },
          "metadata": {},
          "execution_count": 4
        }
      ]
    },
    {
      "cell_type": "code",
      "source": [
        "plt.imshow(X_train[0], cmap=\"binary\")"
      ],
      "metadata": {
        "colab": {
          "base_uri": "https://localhost:8080/",
          "height": 447
        },
        "id": "LR02q84JBKtp",
        "outputId": "1d79250c-7e33-4541-ed6e-625f32bea460"
      },
      "execution_count": 5,
      "outputs": [
        {
          "output_type": "execute_result",
          "data": {
            "text/plain": [
              "<matplotlib.image.AxesImage at 0x7fa11bd5fcd0>"
            ]
          },
          "metadata": {},
          "execution_count": 5
        },
        {
          "output_type": "display_data",
          "data": {
            "text/plain": [
              "<Figure size 640x480 with 1 Axes>"
            ],
            "image/png": "[encoded data removed]"
          },
          "metadata": {}
        }
      ]
    },
    {
      "cell_type": "code",
      "source": [
        "X_train = tf.keras.utils.normalize(X_train)\n",
        "X_test = tf.keras.utils.normalize(X_test)\n",
        "plt.imshow(X_train[0], cmap=\"binary\")"
      ],
      "metadata": {
        "colab": {
          "base_uri": "https://localhost:8080/",
          "height": 447
        },
        "id": "xF2qDQ_eB3PK",
        "outputId": "c5f80b31-d9b5-4907-8bdf-811550a893f1"
      },
      "execution_count": 6,
      "outputs": [
        {
          "output_type": "execute_result",
          "data": {
            "text/plain": [
              "<matplotlib.image.AxesImage at 0x7fa11bb5fa30>"
            ]
          },
          "metadata": {},
          "execution_count": 6
        },
        {
          "output_type": "display_data",
          "data": {
            "text/plain": [
              "<Figure size 640x480 with 1 Axes>"
            ],
            "image/png": "[encoded data removed]"
          },
          "metadata": {}
        }
      ]
    },
    {
      "cell_type": "code",
      "source": [
        "print(X_train[0])"
      ],
      "metadata": {
        "colab": {
          "base_uri": "https://localhost:8080/"
        },
        "id": "LA1-D3LGB3L1",
        "outputId": "b3341a6d-8dca-45a7-ffd9-9e6ed1c7da0d"
      },
      "execution_count": 7,
      "outputs": [
        {
          "output_type": "stream",
          "name": "stdout",
          "text": [
            "[[0.         0.         0.         0.         0.         0.\n",
            "  0.         0.         0.         0.         0.         0.\n",
            "  0.         0.         0.         0.         0.         0.\n",
            "  0.         0.         0.         0.         0.         0.\n",
            "  0.         0.         0.         0.        ]\n",
            " [0.         0.         0.         0.         0.         0.\n",
            "  0.         0.         0.         0.         0.         0.\n",
            "  0.         0.         0.         0.         0.         0.\n",
            "  0.         0.         0.         0.         0.         0.\n",
            "  0.         0.         0.         0.        ]\n",
            " [0.         0.         0.         0.         0.         0.\n",
            "  0.         0.         0.         0.         0.         0.\n",
            "  0.         0.         0.         0.         0.         0.\n",
            "  0.         0.         0.         0.         0.         0.\n",
            "  0.         0.         0.         0.        ]\n",
            " [0.         0.         0.         0.         0.         0.\n",
            "  0.         0.         0.         0.         0.         0.\n",
            "  0.         0.         0.         0.         0.         0.\n",
            "  0.         0.         0.         0.         0.         0.\n",
            "  0.         0.         0.         0.        ]\n",
            " [0.         0.         0.         0.         0.         0.\n",
            "  0.         0.         0.         0.         0.         0.\n",
            "  0.         0.         0.         0.         0.         0.\n",
            "  0.         0.         0.         0.         0.         0.\n",
            "  0.         0.         0.         0.        ]\n",
            " [0.         0.         0.         0.         0.         0.\n",
            "  0.         0.         0.         0.         0.         0.\n",
            "  0.00617053 0.03702317 0.03702317 0.03702317 0.25916217 0.2797306\n",
            "  0.35994746 0.05347791 0.34143588 0.52449487 0.50804013 0.26121901\n",
            "  0.         0.         0.         0.        ]\n",
            " [0.         0.         0.         0.         0.         0.\n",
            "  0.         0.         0.03783863 0.04540636 0.11856105 0.19423832\n",
            "  0.21441893 0.31910581 0.31910581 0.31910581 0.31910581 0.31910581\n",
            "  0.28378975 0.2169415  0.31910581 0.30523165 0.24595112 0.08072242\n",
            "  0.         0.         0.         0.        ]\n",
            " [0.         0.         0.         0.         0.         0.\n",
            "  0.         0.06027503 0.29276441 0.31121595 0.31121595 0.31121595\n",
            "  0.31121595 0.31121595 0.31121595 0.31121595 0.31121595 0.30875574\n",
            "  0.11439954 0.10086841 0.10086841 0.06888574 0.047974   0.\n",
            "  0.         0.         0.         0.        ]\n",
            " [0.         0.         0.         0.         0.         0.\n",
            "  0.         0.02405893 0.29271693 0.33816157 0.33816157 0.33816157\n",
            "  0.33816157 0.33816157 0.26464818 0.24326247 0.33014192 0.32212228\n",
            "  0.         0.         0.         0.         0.         0.\n",
            "  0.         0.         0.         0.        ]\n",
            " [0.         0.         0.         0.         0.         0.\n",
            "  0.         0.         0.16401365 0.31982661 0.21936825 0.51869316\n",
            "  0.51869316 0.42028497 0.02255188 0.         0.08815734 0.31572627\n",
            "  0.         0.         0.         0.         0.         0.\n",
            "  0.         0.         0.         0.        ]\n",
            " [0.         0.         0.         0.         0.         0.\n",
            "  0.         0.         0.         0.04517963 0.00322712 0.49697592\n",
            "  0.81646044 0.29044047 0.         0.         0.         0.\n",
            "  0.         0.         0.         0.         0.         0.\n",
            "  0.         0.         0.         0.        ]\n",
            " [0.         0.         0.         0.         0.         0.\n",
            "  0.         0.         0.         0.         0.         0.4022081\n",
            "  0.73207661 0.54978085 0.00578717 0.         0.         0.\n",
            "  0.         0.         0.         0.         0.         0.\n",
            "  0.         0.         0.         0.        ]\n",
            " [0.         0.         0.         0.         0.         0.\n",
            "  0.         0.         0.         0.         0.         0.03392574\n",
            "  0.58599009 0.78029206 0.21589108 0.         0.         0.\n",
            "  0.         0.         0.         0.         0.         0.\n",
            "  0.         0.         0.         0.        ]\n",
            " [0.         0.         0.         0.         0.         0.\n",
            "  0.         0.         0.         0.         0.         0.\n",
            "  0.0912263  0.62815821 0.58645476 0.41703449 0.28149828 0.00260647\n",
            "  0.         0.         0.         0.         0.         0.\n",
            "  0.         0.         0.         0.        ]\n",
            " [0.         0.         0.         0.         0.         0.\n",
            "  0.         0.         0.         0.         0.         0.\n",
            "  0.         0.17804778 0.52754898 0.55612455 0.55612455 0.26157637\n",
            "  0.05495302 0.         0.         0.         0.         0.\n",
            "  0.         0.         0.         0.        ]\n",
            " [0.         0.         0.         0.         0.         0.\n",
            "  0.         0.         0.         0.         0.         0.\n",
            "  0.         0.         0.10382122 0.42912769 0.58370594 0.58370594\n",
            "  0.34607072 0.06229273 0.         0.         0.         0.\n",
            "  0.         0.         0.         0.        ]\n",
            " [0.         0.         0.         0.         0.         0.\n",
            "  0.         0.         0.         0.         0.         0.\n",
            "  0.         0.         0.         0.03864836 0.22464358 0.60871163\n",
            "  0.61112716 0.45170268 0.         0.         0.         0.\n",
            "  0.         0.         0.         0.        ]\n",
            " [0.         0.         0.         0.         0.         0.\n",
            "  0.         0.         0.         0.         0.         0.\n",
            "  0.         0.         0.         0.         0.         0.56810388\n",
            "  0.57723004 0.56810388 0.14601867 0.         0.         0.\n",
            "  0.         0.         0.         0.        ]\n",
            " [0.         0.         0.         0.         0.         0.\n",
            "  0.         0.         0.         0.         0.         0.\n",
            "  0.         0.         0.0973284  0.27505852 0.38719776 0.53530619\n",
            "  0.53530619 0.43797779 0.00423167 0.         0.         0.\n",
            "  0.         0.         0.         0.        ]\n",
            " [0.         0.         0.         0.         0.         0.\n",
            "  0.         0.         0.         0.         0.         0.\n",
            "  0.0646848  0.24547053 0.37981588 0.41962191 0.41962191 0.41962191\n",
            "  0.41464616 0.3018624  0.         0.         0.         0.\n",
            "  0.         0.         0.         0.        ]\n",
            " [0.         0.         0.         0.         0.         0.\n",
            "  0.         0.         0.         0.         0.03972867 0.1887112\n",
            "  0.36583488 0.41880645 0.41880645 0.41880645 0.41880645 0.33272765\n",
            "  0.12911819 0.         0.         0.         0.         0.\n",
            "  0.         0.         0.         0.        ]\n",
            " [0.         0.         0.         0.         0.         0.\n",
            "  0.         0.         0.03876324 0.11123366 0.35898134 0.42639568\n",
            "  0.42639568 0.42639568 0.42639568 0.33370097 0.13651403 0.00337072\n",
            "  0.         0.         0.         0.         0.         0.\n",
            "  0.         0.         0.         0.        ]\n",
            " [0.         0.         0.         0.         0.         0.\n",
            "  0.02927437 0.27810651 0.35617149 0.41146752 0.41146752 0.41146752\n",
            "  0.41146752 0.317139   0.13010831 0.01463718 0.         0.\n",
            "  0.         0.         0.         0.         0.         0.\n",
            "  0.         0.         0.         0.        ]\n",
            " [0.         0.         0.         0.         0.08516473 0.26633334\n",
            "  0.34994962 0.39175776 0.39175776 0.39175776 0.39175776 0.37782171\n",
            "  0.2059438  0.01703295 0.         0.         0.         0.\n",
            "  0.         0.         0.         0.         0.         0.\n",
            "  0.         0.         0.         0.        ]\n",
            " [0.         0.         0.         0.         0.25195037 0.46870179\n",
            "  0.46870179 0.46870179 0.39274617 0.25009779 0.24454007 0.02964122\n",
            "  0.         0.         0.         0.         0.         0.\n",
            "  0.         0.         0.         0.         0.         0.\n",
            "  0.         0.         0.         0.        ]\n",
            " [0.         0.         0.         0.         0.         0.\n",
            "  0.         0.         0.         0.         0.         0.\n",
            "  0.         0.         0.         0.         0.         0.\n",
            "  0.         0.         0.         0.         0.         0.\n",
            "  0.         0.         0.         0.        ]\n",
            " [0.         0.         0.         0.         0.         0.\n",
            "  0.         0.         0.         0.         0.         0.\n",
            "  0.         0.         0.         0.         0.         0.\n",
            "  0.         0.         0.         0.         0.         0.\n",
            "  0.         0.         0.         0.        ]\n",
            " [0.         0.         0.         0.         0.         0.\n",
            "  0.         0.         0.         0.         0.         0.\n",
            "  0.         0.         0.         0.         0.         0.\n",
            "  0.         0.         0.         0.         0.         0.\n",
            "  0.         0.         0.         0.        ]]\n"
          ]
        }
      ]
    },
    {
      "cell_type": "code",
      "source": [
        "print(y_train[0])"
      ],
      "metadata": {
        "colab": {
          "base_uri": "https://localhost:8080/"
        },
        "id": "8yi7lkUSB3JO",
        "outputId": "449be8ca-ec7f-44e5-a567-d2b4188ec4cd"
      },
      "execution_count": 8,
      "outputs": [
        {
          "output_type": "stream",
          "name": "stdout",
          "text": [
            "5\n"
          ]
        }
      ]
    },
    {
      "cell_type": "code",
      "source": [
        "X_train = X_train.reshape(X_train.shape[0], 28, 28, 1)\n",
        "X_test = X_test.reshape(X_test.shape[0], 28, 28, 1)\n",
        "print(X_train.shape,X_test.shape)"
      ],
      "metadata": {
        "colab": {
          "base_uri": "https://localhost:8080/"
        },
        "id": "CwH02CcPB3Gr",
        "outputId": "d21431e5-ee55-4ed9-cccd-c761643c814c"
      },
      "execution_count": 9,
      "outputs": [
        {
          "output_type": "stream",
          "name": "stdout",
          "text": [
            "(60000, 28, 28, 1) (10000, 28, 28, 1)\n"
          ]
        }
      ]
    },
    {
      "cell_type": "code",
      "source": [
        "from keras.models import Sequential\n",
        "from keras.layers import Dense, Conv2D, Dropout, Flatten, MaxPooling2D, Activation"
      ],
      "metadata": {
        "id": "ZdWkW12wB3EG"
      },
      "execution_count": 10,
      "outputs": []
    },
    {
      "cell_type": "code",
      "source": [
        "model = Sequential()\n",
        "model.add(Conv2D(64, kernel_size=(3,3), input_shape=(28, 28, 1)))      # 28-3+1 = 26*26\n",
        "model.add(Activation('relu'))\n",
        "model.add(MaxPooling2D(pool_size=(2, 2)))                             # 26/2 = 13\n",
        "\n",
        "model.add(Conv2D(64, kernel_size=(3,3)))\n",
        "model.add(Activation('relu'))\n",
        "model.add(MaxPooling2D(pool_size=(2, 2)))\n",
        "\n",
        "model.add(Conv2D(64, kernel_size=(3,3)))\n",
        "model.add(Activation('relu'))\n",
        "model.add(MaxPooling2D(pool_size=(2, 2)))\n",
        "\n",
        "model.add(Flatten())\n",
        "model.add(Dense(64, activation=tf.nn.relu))\n",
        "# model.add(Dropout(0.4))\n",
        "model.add(Dense(10,activation=tf.nn.softmax))"
      ],
      "metadata": {
        "id": "wprIq7vqB3Bj"
      },
      "execution_count": 11,
      "outputs": []
    },
    {
      "cell_type": "code",
      "source": [
        "model.summary()"
      ],
      "metadata": {
        "colab": {
          "base_uri": "https://localhost:8080/"
        },
        "id": "mFWl80QdB2_O",
        "outputId": "58ab0380-4bcb-4e08-e5cd-77c9a82197ec"
      },
      "execution_count": 12,
      "outputs": [
        {
          "output_type": "stream",
          "name": "stdout",
          "text": [
            "Model: \"sequential\"\n",
            "_________________________________________________________________\n",
            " Layer (type)                Output Shape              Param #   \n",
            "=================================================================\n",
            " conv2d (Conv2D)             (None, 26, 26, 64)        640       \n",
            "                                                                 \n",
            " activation (Activation)     (None, 26, 26, 64)        0         \n",
            "                                                                 \n",
            " max_pooling2d (MaxPooling2D  (None, 13, 13, 64)       0         \n",
            " )                                                               \n",
            "                                                                 \n",
            " conv2d_1 (Conv2D)           (None, 11, 11, 64)        36928     \n",
            "                                                                 \n",
            " activation_1 (Activation)   (None, 11, 11, 64)        0         \n",
            "                                                                 \n",
            " max_pooling2d_1 (MaxPooling  (None, 5, 5, 64)         0         \n",
            " 2D)                                                             \n",
            "                                                                 \n",
            " conv2d_2 (Conv2D)           (None, 3, 3, 64)          36928     \n",
            "                                                                 \n",
            " activation_2 (Activation)   (None, 3, 3, 64)          0         \n",
            "                                                                 \n",
            " max_pooling2d_2 (MaxPooling  (None, 1, 1, 64)         0         \n",
            " 2D)                                                             \n",
            "                                                                 \n",
            " flatten (Flatten)           (None, 64)                0         \n",
            "                                                                 \n",
            " dense (Dense)               (None, 64)                4160      \n",
            "                                                                 \n",
            " dense_1 (Dense)             (None, 10)                650       \n",
            "                                                                 \n",
            "=================================================================\n",
            "Total params: 79,306\n",
            "Trainable params: 79,306\n",
            "Non-trainable params: 0\n",
            "_________________________________________________________________\n"
          ]
        }
      ]
    },
    {
      "cell_type": "code",
      "source": [
        "model.compile(optimizer='adam', \n",
        "              loss='sparse_categorical_crossentropy', \n",
        "              metrics=['accuracy'])"
      ],
      "metadata": {
        "id": "STNG-kKrB28o"
      },
      "execution_count": 13,
      "outputs": []
    },
    {
      "cell_type": "code",
      "source": [
        "history = model.fit(X_train, y_train, epochs = 10, validation_split=0.3)"
      ],
      "metadata": {
        "colab": {
          "base_uri": "https://localhost:8080/"
        },
        "id": "tCWotxPgEHDI",
        "outputId": "23c38318-103e-434e-e848-d8190cb4b2b2"
      },
      "execution_count": 14,
      "outputs": [
        {
          "output_type": "stream",
          "name": "stdout",
          "text": [
            "Epoch 1/10\n",
            "1313/1313 [==============================] - 21s 5ms/step - loss: 0.3016 - accuracy: 0.9038 - val_loss: 0.1034 - val_accuracy: 0.9689\n",
            "Epoch 2/10\n",
            "1313/1313 [==============================] - 6s 5ms/step - loss: 0.0973 - accuracy: 0.9699 - val_loss: 0.0899 - val_accuracy: 0.9724\n",
            "Epoch 3/10\n",
            "1313/1313 [==============================] - 7s 5ms/step - loss: 0.0681 - accuracy: 0.9794 - val_loss: 0.0620 - val_accuracy: 0.9789\n",
            "Epoch 4/10\n",
            "1313/1313 [==============================] - 6s 5ms/step - loss: 0.0535 - accuracy: 0.9831 - val_loss: 0.0577 - val_accuracy: 0.9818\n",
            "Epoch 5/10\n",
            "1313/1313 [==============================] - 10s 7ms/step - loss: 0.0444 - accuracy: 0.9860 - val_loss: 0.0622 - val_accuracy: 0.9808\n",
            "Epoch 6/10\n",
            "1313/1313 [==============================] - 7s 5ms/step - loss: 0.0358 - accuracy: 0.9887 - val_loss: 0.0566 - val_accuracy: 0.9822\n",
            "Epoch 7/10\n",
            "1313/1313 [==============================] - 7s 5ms/step - loss: 0.0302 - accuracy: 0.9901 - val_loss: 0.0633 - val_accuracy: 0.9818\n",
            "Epoch 8/10\n",
            "1313/1313 [==============================] - 7s 5ms/step - loss: 0.0251 - accuracy: 0.9918 - val_loss: 0.0533 - val_accuracy: 0.9837\n",
            "Epoch 9/10\n",
            "1313/1313 [==============================] - 7s 5ms/step - loss: 0.0214 - accuracy: 0.9932 - val_loss: 0.0499 - val_accuracy: 0.9864\n",
            "Epoch 10/10\n",
            "1313/1313 [==============================] - 7s 5ms/step - loss: 0.0156 - accuracy: 0.9949 - val_loss: 0.0569 - val_accuracy: 0.9857\n"
          ]
        }
      ]
    },
    {
      "cell_type": "code",
      "source": [
        "plt.figure(figsize = (20,5))\n",
        "plt.subplot(1,2,1)\n",
        "plt.title(\"Train and Validation Loss\")\n",
        "plt.xlabel(\"Epoch\")\n",
        "plt.ylabel(\"Loss\")\n",
        "plt.plot(history.history['loss'],label=\"Train Loss\")\n",
        "plt.plot(history.history['val_loss'], label=\"Validation Loss\")\n",
        "plt.xlim(0, 10)\n",
        "plt.ylim(0.0,1.0)\n",
        "plt.legend()\n",
        "\n",
        "\n",
        "\n",
        "plt.subplot(1,2,2)\n",
        "plt.title(\"Train and Validation Accuracy\")\n",
        "plt.xlabel(\"Epoch\")\n",
        "plt.ylabel(\"Accuracy\")\n",
        "plt.plot(history.history['accuracy'], label=\"Train Accuracy\")\n",
        "plt.plot(history.history['val_accuracy'], label=\"Validation Accuracy\")\n",
        "plt.xlim(0, 9.25)\n",
        "plt.ylim(0.75,1.0)\n",
        "plt.legend()\n",
        "plt.tight_layout()"
      ],
      "metadata": {
        "colab": {
          "base_uri": "https://localhost:8080/",
          "height": 365
        },
        "id": "4u4-abg0Ea6s",
        "outputId": "b42b32bf-e5af-4566-d661-0ebfa989a5d7"
      },
      "execution_count": 15,
      "outputs": [
        {
          "output_type": "display_data",
          "data": {
            "text/plain": [
              "<Figure size 2000x500 with 2 Axes>"
            ],
            "image/png": "[encoded data removed]"
          },
          "metadata": {}
        }
      ]
    },
    {
      "cell_type": "code",
      "source": [
        "test_loss, test_acc = model.evaluate(X_test, y_test)\n",
        "print(test_loss)\n",
        "print(test_acc)"
      ],
      "metadata": {
        "id": "0MyODromEwRU",
        "outputId": "be1a637d-ea1d-4e77-fcdc-65f028ad7cca",
        "colab": {
          "base_uri": "https://localhost:8080/"
        }
      },
      "execution_count": 16,
      "outputs": [
        {
          "output_type": "stream",
          "name": "stdout",
          "text": [
            "313/313 [==============================] - 1s 2ms/step - loss: 0.0595 - accuracy: 0.9852\n",
            "0.05949971452355385\n",
            "0.9851999878883362\n"
          ]
        }
      ]
    },
    {
      "cell_type": "code",
      "source": [
        "predictions = model.predict(X_test)"
      ],
      "metadata": {
        "id": "6qNvfQbzFYEr",
        "outputId": "d34d4daf-d241-4d35-b752-a9597acd88fe",
        "colab": {
          "base_uri": "https://localhost:8080/"
        }
      },
      "execution_count": 18,
      "outputs": [
        {
          "output_type": "stream",
          "name": "stdout",
          "text": [
            "313/313 [==============================] - 1s 2ms/step\n"
          ]
        }
      ]
    },
    {
      "cell_type": "code",
      "source": [
        "print(predictions)"
      ],
      "metadata": {
        "id": "b_4XVVQyFkvB",
        "outputId": "120f194d-dd3d-420d-f9eb-8e24ff37c771",
        "colab": {
          "base_uri": "https://localhost:8080/"
        }
      },
      "execution_count": 19,
      "outputs": [
        {
          "output_type": "stream",
          "name": "stdout",
          "text": [
            "[[1.5426252e-09 1.7206621e-07 4.8321979e-08 ... 9.9999952e-01\n",
            "  8.9522129e-13 2.1334488e-07]\n",
            " [3.3718496e-08 1.6014216e-08 1.0000000e+00 ... 3.7995999e-08\n",
            "  9.8056219e-10 1.5095778e-13]\n",
            " [2.5680903e-08 9.9997509e-01 2.7908635e-09 ... 1.0845245e-05\n",
            "  4.3254133e-08 7.3285179e-08]\n",
            " ...\n",
            " [7.3884252e-18 7.4836040e-11 6.4454115e-16 ... 1.1594061e-10\n",
            "  8.4131641e-10 3.5294345e-10]\n",
            " [6.0641585e-09 4.5867064e-12 1.7481638e-13 ... 4.0889295e-11\n",
            "  5.5428495e-06 4.6432532e-08]\n",
            " [4.7207460e-09 3.0864816e-10 1.5279710e-11 ... 1.8097327e-12\n",
            "  1.0653689e-09 3.4492233e-12]]\n"
          ]
        }
      ]
    },
    {
      "cell_type": "code",
      "source": [
        "print(np.argmax(predictions[0]))"
      ],
      "metadata": {
        "id": "-CQOcSHAFppb",
        "outputId": "af992882-bf44-462b-9f31-67957a147556",
        "colab": {
          "base_uri": "https://localhost:8080/"
        }
      },
      "execution_count": 21,
      "outputs": [
        {
          "output_type": "stream",
          "name": "stdout",
          "text": [
            "7\n"
          ]
        }
      ]
    },
    {
      "cell_type": "code",
      "source": [
        "print(y_test[0])"
      ],
      "metadata": {
        "id": "AvorKdzqFvNs",
        "outputId": "51858d4e-b1cd-4077-ceff-86e6118657cc",
        "colab": {
          "base_uri": "https://localhost:8080/"
        }
      },
      "execution_count": 22,
      "outputs": [
        {
          "output_type": "stream",
          "name": "stdout",
          "text": [
            "7\n"
          ]
        }
      ]
    },
    {
      "cell_type": "code",
      "source": [
        "y_preds = np.array([np.argmax(i) for i in predictions]) \n",
        "print(y_preds[0])"
      ],
      "metadata": {
        "id": "FN4cKeTeF82Q",
        "outputId": "d62ead8c-5033-4ffd-f0d1-cae03b69c838",
        "colab": {
          "base_uri": "https://localhost:8080/"
        }
      },
      "execution_count": 35,
      "outputs": [
        {
          "output_type": "stream",
          "name": "stdout",
          "text": [
            "7\n"
          ]
        }
      ]
    },
    {
      "cell_type": "code",
      "source": [
        "from sklearn.metrics import confusion_matrix\n",
        "\n",
        "cm = confusion_matrix(y_test,y_preds)\n",
        "cm\n"
      ],
      "metadata": {
        "id": "4uXxKynwG4H1",
        "outputId": "2754c5d2-4a3c-4129-9308-781adb721971",
        "colab": {
          "base_uri": "https://localhost:8080/"
        }
      },
      "execution_count": 36,
      "outputs": [
        {
          "output_type": "execute_result",
          "data": {
            "text/plain": [
              "array([[ 971,    2,    0,    1,    0,    1,    3,    2,    0,    0],\n",
              "       [   0, 1131,    0,    0,    0,    0,    2,    2,    0,    0],\n",
              "       [   4,    0, 1007,    5,    2,    0,    3,   10,    1,    0],\n",
              "       [   0,    0,    1,  998,    0,   11,    0,    0,    0,    0],\n",
              "       [   0,    0,    0,    0,  978,    0,    2,    1,    0,    1],\n",
              "       [   1,    0,    0,    5,    0,  884,    1,    1,    0,    0],\n",
              "       [   3,    2,    0,    0,    7,    4,  941,    0,    1,    0],\n",
              "       [   1,    7,    6,    0,    0,    0,    0, 1012,    2,    0],\n",
              "       [   1,    1,    1,    4,    1,    5,    3,    3,  952,    3],\n",
              "       [   3,    3,    0,    0,    9,   10,    0,    3,    3,  978]])"
            ]
          },
          "metadata": {},
          "execution_count": 36
        }
      ]
    },
    {
      "cell_type": "code",
      "source": [
        "sns.heatmap(cm, annot=True, cmap='Blues', fmt=',d')"
      ],
      "metadata": {
        "id": "A6jcN0lQHklA",
        "outputId": "60a57ea5-9881-4ee5-8468-dfc7245efb95",
        "colab": {
          "base_uri": "https://localhost:8080/",
          "height": 447
        }
      },
      "execution_count": 40,
      "outputs": [
        {
          "output_type": "execute_result",
          "data": {
            "text/plain": [
              "<Axes: >"
            ]
          },
          "metadata": {},
          "execution_count": 40
        },
        {
          "output_type": "display_data",
          "data": {
            "text/plain": [
              "<Figure size 640x480 with 2 Axes>"
            ],
            "image/png": "[encoded data removed]"
          },
          "metadata": {}
        }
      ]
    },
    {
      "cell_type": "code",
      "source": [
        "model.save(\"digit_classifier.h5\")"
      ],
      "metadata": {
        "id": "zvtkeV6nInm4"
      },
      "execution_count": 41,
      "outputs": []
    },
    {
      "cell_type": "code",
      "source": [
        "# Test model"
      ],
      "metadata": {
        "id": "VKE8zI3iI6R_"
      },
      "execution_count": 42,
      "outputs": []
    },
    {
      "cell_type": "code",
      "source": [
        "import cv2\n",
        "\n",
        "img = cv2.imread(\"/content/img1.png\")"
      ],
      "metadata": {
        "id": "vJg7MfgTLkVA"
      },
      "execution_count": 80,
      "outputs": []
    },
    {
      "cell_type": "code",
      "source": [
        "grey = cv2.cvtColor(img, cv2.COLOR_RGB2GRAY)\n",
        "resized = cv2.resize(grey, (28,28), interpolation = cv2.INTER_AREA)"
      ],
      "metadata": {
        "id": "zsDJI3FDLtjg"
      },
      "execution_count": 81,
      "outputs": []
    },
    {
      "cell_type": "code",
      "source": [
        "resized.shape"
      ],
      "metadata": {
        "id": "xyItrnQcLyOr",
        "outputId": "b1eb9738-32a6-4620-805f-d1e846a5471a",
        "colab": {
          "base_uri": "https://localhost:8080/"
        }
      },
      "execution_count": 82,
      "outputs": [
        {
          "output_type": "execute_result",
          "data": {
            "text/plain": [
              "(28, 28)"
            ]
          },
          "metadata": {},
          "execution_count": 82
        }
      ]
    },
    {
      "cell_type": "code",
      "source": [
        "normalize_img = tf.keras.utils.normalize(resized)\n",
        "final_img = np.array(normalize_img).reshape(-1, 28, 28, 1)"
      ],
      "metadata": {
        "id": "Jfiw-vNAMNp2"
      },
      "execution_count": 83,
      "outputs": []
    },
    {
      "cell_type": "code",
      "source": [
        "final_img.shape"
      ],
      "metadata": {
        "id": "g7hYCxCKMu8E",
        "outputId": "9b531550-b6b1-4741-f314-60a61341446c",
        "colab": {
          "base_uri": "https://localhost:8080/"
        }
      },
      "execution_count": 84,
      "outputs": [
        {
          "output_type": "execute_result",
          "data": {
            "text/plain": [
              "(1, 28, 28, 1)"
            ]
          },
          "metadata": {},
          "execution_count": 84
        }
      ]
    },
    {
      "cell_type": "code",
      "source": [
        "prediction = model.predict(final_img)"
      ],
      "metadata": {
        "id": "lCajvO6cM7qr",
        "outputId": "c89483b4-7f7a-457e-a8da-cad823682304",
        "colab": {
          "base_uri": "https://localhost:8080/"
        }
      },
      "execution_count": 85,
      "outputs": [
        {
          "output_type": "stream",
          "name": "stdout",
          "text": [
            "1/1 [==============================] - 0s 19ms/step\n"
          ]
        }
      ]
    },
    {
      "cell_type": "code",
      "source": [
        "print(np.argmax(prediction))"
      ],
      "metadata": {
        "id": "qs1WKws4NHsa",
        "outputId": "c445c238-25ab-46cb-83ca-eea2d4e769e8",
        "colab": {
          "base_uri": "https://localhost:8080/"
        }
      },
      "execution_count": 88,
      "outputs": [
        {
          "output_type": "stream",
          "name": "stdout",
          "text": [
            "0\n"
          ]
        }
      ]
    },
    {
      "cell_type": "code",
      "source": [
        "prediction"
      ],
      "metadata": {
        "id": "keKl2k7PNaAs",
        "outputId": "fdfc786b-e5a9-4971-8a01-95435140381a",
        "colab": {
          "base_uri": "https://localhost:8080/"
        }
      },
      "execution_count": 89,
      "outputs": [
        {
          "output_type": "execute_result",
          "data": {
            "text/plain": [
              "array([[8.8377553e-01, 8.1345923e-03, 2.4735486e-02, 5.4932563e-05,\n",
              "        1.0502268e-02, 5.5780914e-05, 3.6203727e-02, 3.4192849e-02,\n",
              "        7.7414239e-04, 1.5707023e-03]], dtype=float32)"
            ]
          },
          "metadata": {},
          "execution_count": 89
        }
      ]
    },
    {
      "cell_type": "code",
      "source": [
        "prediction.shape"
      ],
      "metadata": {
        "id": "e5K-TX0aNmoy",
        "outputId": "c603da0a-ac15-4396-9c18-39ab44a75f8e",
        "colab": {
          "base_uri": "https://localhost:8080/"
        }
      },
      "execution_count": 90,
      "outputs": [
        {
          "output_type": "execute_result",
          "data": {
            "text/plain": [
              "(1, 10)"
            ]
          },
          "metadata": {},
          "execution_count": 90
        }
      ]
    },
    {
      "cell_type": "code",
      "source": [
        "from google.colab import drive\n",
        "drive.mount('/content/drive')"
      ],
      "metadata": {
        "id": "OxtdFDY4Pncd"
      },
      "execution_count": null,
      "outputs": []
    },
    {
      "cell_type": "code",
      "source": [],
      "metadata": {
        "id": "66Mr9lT4N0kY"
      },
      "execution_count": null,
      "outputs": []
    }
  ]
}